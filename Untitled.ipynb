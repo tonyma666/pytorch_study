{
 "cells": [
  {
   "cell_type": "code",
   "execution_count": 1,
   "metadata": {},
   "outputs": [],
   "source": [
    "import numpy as np\n",
    "import torch"
   ]
  },
  {
   "cell_type": "code",
   "execution_count": 3,
   "metadata": {},
   "outputs": [
    {
     "name": "stdout",
     "output_type": "stream",
     "text": [
      "tensor([[1., 1., 1., 1.],\n",
      "        [1., 1., 1., 1.]])\n",
      "tensor([[[1., 1.],\n",
      "         [1., 1.]],\n",
      "\n",
      "        [[1., 1.],\n",
      "         [1., 1.]]])\n",
      "tensor(8.) tensor(8.) tensor(8.)\n",
      "tensor(2.8284) tensor(2.8284) tensor(2.8284)\n"
     ]
    }
   ],
   "source": [
    "# norm-p\n",
    "a = torch.full([8], 1)\n",
    "b = a.view(2, 4)\n",
    "print(b)\n",
    "c = a.view(2, 2, 2)\n",
    "print(c)\n",
    "print(a.norm(1), b.norm(1), c.norm(1)) # 一阶范数，应该都是一样的，为tensor(8.)\n",
    "print(a.norm(2), b.norm(2), c.norm(2)) # 二阶范数，所有元素的平方和 开根号"
   ]
  },
  {
   "cell_type": "code",
   "execution_count": 4,
   "metadata": {},
   "outputs": [
    {
     "name": "stdout",
     "output_type": "stream",
     "text": [
      "tensor([4., 4.])\n",
      "tensor([[1.4142, 1.4142],\n",
      "        [1.4142, 1.4142]])\n"
     ]
    }
   ],
   "source": [
    "print(b.norm(1, dim=1)) # tensor(4, 4)\n",
    "print(c.norm(2, dim=1)) # tensor(genhao2, genhao2)"
   ]
  },
  {
   "cell_type": "code",
   "execution_count": null,
   "metadata": {},
   "outputs": [],
   "source": [
    "print(c.norm(1, dim=1))"
   ]
  }
 ],
 "metadata": {
  "kernelspec": {
   "display_name": "Python 3",
   "language": "python",
   "name": "python3"
  },
  "language_info": {
   "codemirror_mode": {
    "name": "ipython",
    "version": 3
   },
   "file_extension": ".py",
   "mimetype": "text/x-python",
   "name": "python",
   "nbconvert_exporter": "python",
   "pygments_lexer": "ipython3",
   "version": "3.6.8"
  }
 },
 "nbformat": 4,
 "nbformat_minor": 2
}
