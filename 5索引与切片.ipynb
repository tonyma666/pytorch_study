{
 "cells": [
  {
   "cell_type": "code",
   "execution_count": 1,
   "metadata": {},
   "outputs": [],
   "source": [
    "import torch \n",
    "import numpy as np"
   ]
  },
  {
   "cell_type": "code",
   "execution_count": 5,
   "metadata": {},
   "outputs": [
    {
     "name": "stdout",
     "output_type": "stream",
     "text": [
      "torch.Size([4, 3, 28, 28])\n",
      "torch.Size([3, 28, 28])\n",
      "tensor(0.7924)\n"
     ]
    }
   ],
   "source": [
    "# indexing\n",
    "a = torch.rand(4, 3, 28, 28) # batch_size=4, channels=3, height=28, width=28\n",
    "print(a.size())\n",
    "b = a[0]\n",
    "print(b.size()) # [3, 3, 28, 28]\n",
    "c = a[0, 0, 2, 3] # 第一张图片，第一个通道，h=2,w=3上的像素点的值\n",
    "print(c)  # scalar"
   ]
  },
  {
   "cell_type": "code",
   "execution_count": 8,
   "metadata": {},
   "outputs": [
    {
     "name": "stdout",
     "output_type": "stream",
     "text": [
      "torch.Size([2, 3, 28, 28])\n",
      "torch.Size([2, 1, 28, 28])\n",
      "torch.Size([2, 2, 28, 28])\n",
      "torch.Size([2, 1, 28, 28])\n",
      "torch.Size([2, 28, 28])\n"
     ]
    }
   ],
   "source": [
    "# select first/last N\n",
    "print(a[:2].shape) # [2, 3, 28, 28]\n",
    "print(a[:2, :1, ...].shape) # [2, 1, 28, 28]\n",
    "print(a[:2, 1:, ...].shape) # [2, 2, 28, 28]\n",
    "\n",
    "print(a[:2, -1:, ...].shape) # [2, 1, 28, 28] 注意a[:2, -1, ...]要比a[:2, -1:, ...]少一个维度哦，因为你已经真正的进入到了那一个维度，而不是切片驳斥维度了\n",
    "print(a[:2, -1, ...].shape)"
   ]
  },
  {
   "cell_type": "code",
   "execution_count": 9,
   "metadata": {},
   "outputs": [
    {
     "name": "stdout",
     "output_type": "stream",
     "text": [
      "torch.Size([4, 3, 14, 14])\n",
      "torch.Size([4, 3, 14, 14])\n"
     ]
    }
   ],
   "source": [
    "# select by steps\n",
    "print(a[:, :, 0:28:2, 0:28:2].size()) # [4, 3, 14, 14]\n",
    "print(a[:, :, ::2, ::2].size()) # [4, 3, 14, 14]"
   ]
  },
  {
   "cell_type": "code",
   "execution_count": 22,
   "metadata": {},
   "outputs": [
    {
     "name": "stdout",
     "output_type": "stream",
     "text": [
      "torch.Size([2, 3, 28, 28])\n",
      "torch.Size([4, 3, 14, 28])\n"
     ]
    }
   ],
   "source": [
    "# select by specific index\n",
    "# 用到Tensor的成员函数：index_select(dim, Tensor)\n",
    "# 第0个维度，即Rank=0，选取0和2通道，注意dtype必须是torch.long类型\n",
    "# 不论你index怎么写，必不降维\n",
    "print(a.index_select(0, torch.tensor([0, 2], dtype=torch.long)).shape) # [2, 3, 28, 28]\n",
    "print(a.index_select(2, torch.arange(0, 28, 2, dtype=torch.long)).shape) # [4, 3, 14, 28]"
   ]
  },
  {
   "cell_type": "code",
   "execution_count": 24,
   "metadata": {},
   "outputs": [
    {
     "name": "stdout",
     "output_type": "stream",
     "text": [
      "torch.Size([4, 3, 28, 14])\n",
      "torch.Size([1, 3, 28, 7])\n"
     ]
    }
   ],
   "source": [
    "# ... 可用来推测维度，方便代码的编写\n",
    "print(a[..., 0:28:2].shape) # [4, 3, 28, 14] \n",
    "print(a[0:1, ..., 0:28:4].shape) # [1, 3, 28, 7]"
   ]
  },
  {
   "cell_type": "code",
   "execution_count": 27,
   "metadata": {},
   "outputs": [
    {
     "name": "stdout",
     "output_type": "stream",
     "text": [
      "tensor([[ 0.0760, -0.2827, -1.0732,  1.0988],\n",
      "        [ 1.8330, -0.3747,  1.4158, -0.5896],\n",
      "        [ 1.4469,  0.2393, -0.4917, -0.8170]])\n",
      "tensor([[0, 0, 0, 1],\n",
      "        [1, 0, 1, 0],\n",
      "        [1, 0, 0, 0]], dtype=torch.uint8)\n",
      "tensor([1.0988, 1.8330, 1.4158, 1.4469])\n",
      "torch.Size([4])\n"
     ]
    }
   ],
   "source": [
    "# select by mask\n",
    "a = torch.randn(3, 4)\n",
    "print(a)\n",
    "mask = a.ge(0.5) # tensor的成员函数ge，代表了 >= 功能，相应的还有le功能？\n",
    "print(mask)\n",
    "b = a.masked_select(mask)\n",
    "print(b) # 注意此时b的Size是不定长的向量，只是把所有满足条件的scalar tensor塞进b里面而已\n",
    "print(b.size())"
   ]
  },
  {
   "cell_type": "code",
   "execution_count": 30,
   "metadata": {},
   "outputs": [
    {
     "name": "stdout",
     "output_type": "stream",
     "text": [
      "tensor([0., 1., 2., 3., 4., 5., 6., 7.])\n",
      "tensor([0., 2., 7.])\n"
     ]
    }
   ],
   "source": [
    "# select by flatten index，用的比较少\n",
    "# 先flatten，再索引，注意索引也必须是long类型的Tensor，和index_select是一样的\n",
    "# 只不过take是torch的函数，而不是Tensor的成员函数了！\n",
    "a = torch.arange(0, 8, dtype=torch.float)\n",
    "print(a)\n",
    "b = torch.take(a, torch.tensor([0, 2, 7], dtype=torch.long)) # \n",
    "print(b)"
   ]
  },
  {
   "cell_type": "code",
   "execution_count": null,
   "metadata": {},
   "outputs": [],
   "source": []
  }
 ],
 "metadata": {
  "kernelspec": {
   "display_name": "Python 3",
   "language": "python",
   "name": "python3"
  },
  "language_info": {
   "codemirror_mode": {
    "name": "ipython",
    "version": 3
   },
   "file_extension": ".py",
   "mimetype": "text/x-python",
   "name": "python",
   "nbconvert_exporter": "python",
   "pygments_lexer": "ipython3",
   "version": "3.6.8"
  }
 },
 "nbformat": 4,
 "nbformat_minor": 2
}
