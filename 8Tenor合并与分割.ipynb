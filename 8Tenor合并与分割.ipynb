{
 "cells": [
  {
   "cell_type": "code",
   "execution_count": 1,
   "metadata": {},
   "outputs": [],
   "source": [
    "import torch \n",
    "import numpy as np"
   ]
  },
  {
   "cell_type": "code",
   "execution_count": 5,
   "metadata": {},
   "outputs": [
    {
     "name": "stdout",
     "output_type": "stream",
     "text": [
      "torch.Size([9, 32, 8])\n",
      "torch.Size([9, 3, 32, 32])\n",
      "a1 and a3 cant use torch.cat function.\n",
      "torch.Size([4, 4, 32, 32])\n"
     ]
    }
   ],
   "source": [
    "# cat\n",
    "# cat的时候要保证除了cat操作的dim数值不一样，其他维度的值必须一致！\n",
    "a = torch.rand(4, 32, 8)\n",
    "b = torch.zeros(5, 32, 8)\n",
    "c = torch.cat((a, b), dim=0) # [9, 32, 8]\n",
    "print(c.shape)\n",
    "\n",
    "a1 = torch.rand(4, 3, 32, 32)\n",
    "a2 = torch.rand(5, 3, 32, 32)\n",
    "b = torch.cat([a1, a2], dim=0)\n",
    "print(b.size())\n",
    "a3 = torch.rand(4, 1, 32, 32)\n",
    "try:\n",
    "    c = torch.cat([a1, a3], dim=0)\n",
    "except Exception:\n",
    "    print('a1 and a3 cant use torch.cat function.')\n",
    "d = torch.cat([a1, a3], dim=1) # 但是a1和a3可以再dim=1上进行cat，因为除了dim1外，其他维度的shape都是一致的\n",
    "print(d.shape) # [4, 4, 32, 32]"
   ]
  },
  {
   "cell_type": "code",
   "execution_count": 9,
   "metadata": {},
   "outputs": [
    {
     "name": "stdout",
     "output_type": "stream",
     "text": [
      "torch.Size([2, 2, 3, 3, 3])\n",
      "torch.Size([90, 8])\n",
      "torch.Size([2, 45, 8])\n"
     ]
    }
   ],
   "source": [
    "# stack\n",
    "# stack会创建新的维度！！！！\n",
    "a = torch.rand(2, 3, 3, 3)\n",
    "b = torch.ones(2, 3, 3, 3) # stack操作的两个Tensor维度必须完全一致\n",
    "# 也就是说在dim=1的前面新创建了一个维度，这个维度上的值为2.所以这个维度的上半部分是a，下半部分是b，两者是分开的\n",
    "# 比如一班学生的八门课程分数的维度：[45, 8]，二班学生的八门课程分数的维度：[45, 8]\n",
    "# 如果调用torch.cat([班1，班2], dim=0)得到[90, 5]的维度，此时两个班级的人就完全混在一起了\n",
    "# 而调用torch.stack([班1， 班2], dim=1)得到[2, 45, 8]，能完好的区分两个班级的人的分数。\n",
    "c = torch.stack([a, b], dim=1) # [2, 2, 3, 3, 3] \n",
    "print(c.shape)\n",
    "\n",
    "ban_1 = torch.rand(45, 8) * 100\n",
    "ban_2 = torch.rand(45, 8) * 100\n",
    "hybird_1 = torch.cat([ban_1, ban_2], dim=0) # [90, 8]\n",
    "print(hybird_1.size())\n",
    "hybird_2 = torch.stack([ban_1, ban_2], dim=0) # [2, 45, 8]\n",
    "print(hybird_2.size())"
   ]
  },
  {
   "cell_type": "code",
   "execution_count": 10,
   "metadata": {},
   "outputs": [
    {
     "name": "stdout",
     "output_type": "stream",
     "text": [
      "The two tensor cant use stack function in dim=0:  torch.Size([32, 8]) and torch.Size([44, 8])\n",
      "torch.Size([76, 8])\n"
     ]
    }
   ],
   "source": [
    "# cat vs stack\n",
    "a = torch.randn(32, 8)\n",
    "b = torch.randn(44, 8)\n",
    "try:\n",
    "    c = torch.stack([a, b], dim=0)\n",
    "except Exception:\n",
    "    print('The two tensor cant use stack function in dim=0: ', a.size(), 'and', b.size())\n",
    "\n",
    "d = torch.cat([a, b], dim=0) # [76, 8]\n",
    "print(d.size())"
   ]
  },
  {
   "cell_type": "code",
   "execution_count": 11,
   "metadata": {},
   "outputs": [],
   "source": [
    "# split，一定不会改变维度！\n",
    "# 拆分有两种策略：\n",
    "# 第一种是几个为一组，几个为一组。。一直拆完        -----> split方法\n",
    "# 第二种是将该维度拆成几组，至于每组几个需要自动去算 ------> chunk方法"
   ]
  },
  {
   "cell_type": "code",
   "execution_count": 20,
   "metadata": {},
   "outputs": [
    {
     "name": "stdout",
     "output_type": "stream",
     "text": [
      "<class 'tuple'>\n",
      "torch.Size([2, 3, 28, 28]) torch.Size([2, 3, 28, 28]) \n",
      "torch.Size([1, 3, 28, 28]) torch.Size([1, 3, 28, 28]) torch.Size([2, 3, 28, 28]) \n",
      "是可以拆分成1个tensor的，也就是保持不变，1.0版本该了？？\n"
     ]
    }
   ],
   "source": [
    "a = torch.randn(4, 3, 28, 28)\n",
    "b = a.split(2, dim=0)\n",
    "print(type(b))  # split\n",
    "for tensor in b:\n",
    "    print(tensor.size(), end=' ') # [2, 3, 28, 28], [2, 3, 28, 28]\n",
    "print()\n",
    "c = a.split([1, 1, 2], dim=0)\n",
    "for tensor in c:\n",
    "    print(tensor.size(), end=' ') # [1, 3, 28, 28], [1, 3, 28, 28], [2, 3, 28, 28]\n",
    "print()\n",
    "    \n",
    "try:\n",
    "    d = a.split(4, dim=0)\n",
    "    print('是可以拆分成1个tensor的，也就是保持不变，1.0版本该了？？')\n",
    "except Exception:\n",
    "    print('illegal param')"
   ]
  },
  {
   "cell_type": "code",
   "execution_count": 27,
   "metadata": {},
   "outputs": [
    {
     "name": "stdout",
     "output_type": "stream",
     "text": [
      "torch.Size([6, 2, 6, 6])\n",
      "torch.Size([6, 2, 6, 6])\n",
      "torch.Size([6, 2, 6, 6])\n"
     ]
    }
   ],
   "source": [
    "# chunk 也不会改变维度，改变维度的只有split!! \n",
    "# 将某一个维度的值等分！\n",
    "a = torch.randn(6, 6, 6, 6)\n",
    "hybirds = a.chunk(3, dim=1) # 如果6%3!=0，那也不会报错，但是可能会引发错误的结果 \n",
    "for elem in hybirds:\n",
    "    print(elem.shape) # [6, 2, 6, 6], [6, 2, 6, 6], [6, 2, 6, 6]"
   ]
  }
 ],
 "metadata": {
  "kernelspec": {
   "display_name": "Python 3",
   "language": "python",
   "name": "python3"
  },
  "language_info": {
   "codemirror_mode": {
    "name": "ipython",
    "version": 3
   },
   "file_extension": ".py",
   "mimetype": "text/x-python",
   "name": "python",
   "nbconvert_exporter": "python",
   "pygments_lexer": "ipython3",
   "version": "3.6.8"
  }
 },
 "nbformat": 4,
 "nbformat_minor": 2
}
