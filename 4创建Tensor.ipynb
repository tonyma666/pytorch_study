{
 "cells": [
  {
   "cell_type": "code",
   "execution_count": 2,
   "metadata": {},
   "outputs": [],
   "source": [
    "import numpy as np \n",
    "import torch"
   ]
  },
  {
   "cell_type": "code",
   "execution_count": 2,
   "metadata": {},
   "outputs": [
    {
     "name": "stdout",
     "output_type": "stream",
     "text": [
      "tensor([2.0000, 2.3000], dtype=torch.float64)\n",
      "tensor([[0., 0., 0., 0.],\n",
      "        [0., 0., 0., 0.],\n",
      "        [0., 0., 0., 0.],\n",
      "        [0., 0., 0., 0.]], dtype=torch.float64)\n"
     ]
    }
   ],
   "source": [
    "# import from numpy \n",
    "a = np.array([2, 2.3])\n",
    "a_tensor = torch.from_numpy(a)\n",
    "print(a_tensor)\n",
    "b = np.zeros([4, 4])\n",
    "b_tensor = torch.from_numpy(b)\n",
    "print(b_tensor)"
   ]
  },
  {
   "cell_type": "code",
   "execution_count": 4,
   "metadata": {},
   "outputs": [
    {
     "name": "stdout",
     "output_type": "stream",
     "text": [
      "tensor([[1.1000, 1.2000],\n",
      "        [1.3000, 1.4000]])\n",
      "torch.Size([2]) torch.Size([2, 3])\n"
     ]
    }
   ],
   "source": [
    "# import from list\n",
    "# 注意两个生成Tensor的函数 torch.tensor这个接受现成数据，torch.Tensor这个接受的是维度\n",
    "a = torch.tensor([1.1, 1.2]) # 这个现成数据可以是list，也可以是numpy.ndarray\n",
    "b = torch.tensor(np.array([1.1, 1.2]))\n",
    "c = torch.tensor([\n",
    "    [1.1, 1.2],\n",
    "    [1.3, 1.4]\n",
    "])\n",
    "print(c)\n",
    "\n",
    "d = torch.Tensor(2, 3) # dim=2, shape=Size([2, 3])\n",
    "e = torch.FloatTensor(2, 3) # 和torch.Tensor的功能是一致的，只不过是随机初始化\n",
    "print(a.shape, d.shape)"
   ]
  },
  {
   "cell_type": "code",
   "execution_count": 7,
   "metadata": {},
   "outputs": [
    {
     "name": "stdout",
     "output_type": "stream",
     "text": [
      "tensor([-2.5348e+30])\n",
      "tensor([[-254120656,      21992,          0],\n",
      "        [         0,          0,          0]], dtype=torch.int32)\n"
     ]
    }
   ],
   "source": [
    "# uninitialized tensor \n",
    "# 可以发现里面的数值有非常大的，也有非常小的数值。\n",
    "a = torch.empty(1)\n",
    "print(a)\n",
    "b = torch.IntTensor(2, 3)\n",
    "print(b)"
   ]
  },
  {
   "cell_type": "code",
   "execution_count": 8,
   "metadata": {},
   "outputs": [
    {
     "name": "stdout",
     "output_type": "stream",
     "text": [
      "torch.FloatTensor\n",
      "torch.DoubleTensor\n"
     ]
    }
   ],
   "source": [
    "# set default type\n",
    "a = torch.tensor([1.2, 3])\n",
    "print(a.type())\n",
    "\n",
    "# 设置Tensor的默认数据类型\n",
    "torch.set_default_tensor_type(torch.DoubleTensor) # 在reinforce learning中double类型用的很多\n",
    "b = torch.randn(3, 4)\n",
    "print(b.type())"
   ]
  },
  {
   "cell_type": "code",
   "execution_count": 12,
   "metadata": {},
   "outputs": [
    {
     "name": "stdout",
     "output_type": "stream",
     "text": [
      "tensor([[0.3552, 0.5348, 0.8811],\n",
      "        [0.9098, 0.1812, 0.6422],\n",
      "        [0.6531, 0.8402, 0.0574]])\n",
      "tensor([[0.9284, 0.6082, 0.9855],\n",
      "        [0.8432, 0.7115, 0.2998],\n",
      "        [0.5742, 0.0223, 0.1801]])\n",
      "torch.DoubleTensor\n",
      "tensor([[6, 3, 6],\n",
      "        [7, 3, 3],\n",
      "        [1, 8, 8]])\n",
      "torch.int64\n"
     ]
    }
   ],
   "source": [
    "# rand/rand_like, randint\n",
    "# 往后我的默认Tensor公式就是DoubleTensor了\n",
    "a = torch.rand(3, 3)\n",
    "print(a)\n",
    "b = torch.rand_like(a)\n",
    "print(b)\n",
    "print(b.type())\n",
    "c = torch.randint(1, 10, [3, 3]) # 区间左比右开，只能保证数值在[1, 10)之间，但并不是均匀的\n",
    "print(c)\n",
    "print(c.dtype) # 可以看到c默认是torch.Int的"
   ]
  },
  {
   "cell_type": "code",
   "execution_count": 15,
   "metadata": {},
   "outputs": [
    {
     "name": "stdout",
     "output_type": "stream",
     "text": [
      "tensor([[ 1.0925, -0.2295,  0.9539],\n",
      "        [-0.4511, -0.0571,  0.0302],\n",
      "        [ 0.9890, -0.7051,  1.6851]])\n",
      "tensor([-0.4162, -0.9232, -0.6424, -0.8921,  0.0802,  0.3457, -0.7742, -0.0441,\n",
      "         0.1592, -0.0729])\n"
     ]
    }
   ],
   "source": [
    "# randn\n",
    "a = torch.randn(3, 3) # mean=0, std=1的正太分布\n",
    "print(a)\n",
    "# 如果要改变均值和标准差呢？\n",
    "b = torch.normal(mean=torch.full([10], 0), std=torch.arange(1, 0, -0.1)) # 先展平，再reshape\n",
    "print(b)"
   ]
  },
  {
   "cell_type": "code",
   "execution_count": 16,
   "metadata": {},
   "outputs": [
    {
     "name": "stdout",
     "output_type": "stream",
     "text": [
      "torch.DoubleTensor\n",
      "tensor([[7., 7., 7.],\n",
      "        [7., 7., 7.]])\n",
      "tensor(7.)\n",
      "tensor([7.])\n"
     ]
    }
   ],
   "source": [
    "# full 给某一个tensor以固定值填充\n",
    "a = torch.full([2, 3], 7) # 2行3列的Tensor，值全部为7\n",
    "print(a.type()) # Double\n",
    "print(a)\n",
    "b = torch.full([], 7)  # 注意b和c的区别\n",
    "print(b)\n",
    "c = torch.full([1], 7)\n",
    "print(c)"
   ]
  },
  {
   "cell_type": "code",
   "execution_count": 17,
   "metadata": {},
   "outputs": [
    {
     "name": "stdout",
     "output_type": "stream",
     "text": [
      "tensor([1, 2, 3, 4, 5, 6, 7, 8, 9])\n",
      "tensor([10,  9,  8,  7,  6,  5,  4,  3,  2,  1,  0])\n"
     ]
    }
   ],
   "source": [
    "# arange\n",
    "# 就记住第一个数一定是闭区间，第二个数一定是开区间就完事了\n",
    "a = torch.arange(1, 10)\n",
    "print(a)\n",
    "b = torch.arange(10, -1, -1) \n",
    "print(b)"
   ]
  },
  {
   "cell_type": "code",
   "execution_count": 18,
   "metadata": {},
   "outputs": [
    {
     "name": "stdout",
     "output_type": "stream",
     "text": [
      "tensor([ 0.,  5., 10.])\n",
      "tensor([1.0000e+00, 1.0000e+01, 1.0000e+02, 1.0000e+03, 1.0000e+04, 1.0000e+05,\n",
      "        1.0000e+06, 1.0000e+07, 1.0000e+08, 1.0000e+09, 1.0000e+10])\n"
     ]
    }
   ],
   "source": [
    "# linspacelogspace\n",
    "a = torch.linspace(0, 10, steps=3) # 左闭右闭区间，steps的值为把这个区间等间隔的分成几个数，这里是三个数\n",
    "print(a)\n",
    "b = torch.logspace(0, 10, steps=11)  # 这是先用torch.linspace得到[0, 1, 2, ...10]，然后作为以10为底的指数的系数就完事了\n",
    "print(b)"
   ]
  },
  {
   "cell_type": "code",
   "execution_count": 19,
   "metadata": {},
   "outputs": [
    {
     "name": "stdout",
     "output_type": "stream",
     "text": [
      "tensor([[1., 1., 1.],\n",
      "        [1., 1., 1.],\n",
      "        [1., 1., 1.]])\n",
      "tensor([[0., 0., 0.],\n",
      "        [0., 0., 0.],\n",
      "        [0., 0., 0.]])\n",
      "tensor([[1., 0., 0.],\n",
      "        [0., 1., 0.],\n",
      "        [0., 0., 1.]])\n",
      "tensor([[1., 0., 0.],\n",
      "        [0., 1., 0.],\n",
      "        [0., 0., 1.]])\n",
      "tensor([[1., 1., 1.],\n",
      "        [1., 1., 1.],\n",
      "        [1., 1., 1.]])\n"
     ]
    }
   ],
   "source": [
    "# ones/zeros/eye/ones(zeros)_like\n",
    "a = torch.ones(3, 3)\n",
    "print(a)\n",
    "b = torch.zeros(3, 3)\n",
    "print(b)\n",
    "c = torch.eye(3, 3)\n",
    "print(c)\n",
    "d = torch.eye(3) # 注意eye矩阵的特殊之处，给一个值的时候代表一个方阵，而非向量。并且eye矩阵的维度只能为2！\n",
    "print(d)\n",
    "e = torch.ones_like(d)\n",
    "print(e)"
   ]
  },
  {
   "cell_type": "code",
   "execution_count": 23,
   "metadata": {},
   "outputs": [
    {
     "name": "stdout",
     "output_type": "stream",
     "text": [
      "tensor([[-0.6128,  1.6668,  0.3117],\n",
      "        [-0.1924, -0.7213,  1.8010]])\n",
      "tensor([1, 0])\n",
      "tensor([[-0.1924, -0.7213,  1.8010],\n",
      "        [-0.6128,  1.6668,  0.3117]])\n"
     ]
    }
   ],
   "source": [
    "# randperm\n",
    "# 类似与numpy中的np.random.permutation\n",
    "a = torch.randn(2, 3)\n",
    "print(a)\n",
    "shuffle_index = torch.randperm(2)  # 注意值为0和1的混排，不包含2\n",
    "print(shuffle_index)\n",
    "a = a[shuffle_index] # fancy indexes操作\n",
    "print(a)"
   ]
  },
  {
   "cell_type": "code",
   "execution_count": null,
   "metadata": {},
   "outputs": [],
   "source": []
  }
 ],
 "metadata": {
  "kernelspec": {
   "display_name": "Python 3",
   "language": "python",
   "name": "python3"
  },
  "language_info": {
   "codemirror_mode": {
    "name": "ipython",
    "version": 3
   },
   "file_extension": ".py",
   "mimetype": "text/x-python",
   "name": "python",
   "nbconvert_exporter": "python",
   "pygments_lexer": "ipython3",
   "version": "3.6.8"
  }
 },
 "nbformat": 4,
 "nbformat_minor": 2
}
