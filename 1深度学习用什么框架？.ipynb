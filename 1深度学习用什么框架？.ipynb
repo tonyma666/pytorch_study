{
 "cells": [
  {
   "cell_type": "code",
   "execution_count": 2,
   "metadata": {},
   "outputs": [],
   "source": [
    "import torch\n",
    "from torch import autograd"
   ]
  },
  {
   "cell_type": "code",
   "execution_count": 5,
   "metadata": {},
   "outputs": [
    {
     "name": "stdout",
     "output_type": "stream",
     "text": [
      "1.0.0\n",
      "cpu\n"
     ]
    }
   ],
   "source": [
    "print(torch.__version__)\n",
    "print(torch.device('gpu' if torch.cuda.is_available() else 'cpu'))"
   ]
  },
  {
   "cell_type": "code",
   "execution_count": 4,
   "metadata": {},
   "outputs": [
    {
     "name": "stdout",
     "output_type": "stream",
     "text": [
      "before:  None None None\n",
      "fter:  tensor(2.) tensor(1.) tensor(1.)\n"
     ]
    }
   ],
   "source": [
    "# 展示pytorch自动求导过程\n",
    "x = torch.tensor(1.)\n",
    "a = torch.tensor(1., requires_grad=True)\n",
    "b = torch.tensor(1., requires_grad=True)\n",
    "c = torch.tensor(1., requires_grad=True)\n",
    "\n",
    "y = a** 2 * x + b * x + c\n",
    "print('before: ', a.grad, b.grad, c.grad)\n",
    "grads = autograd.grad(y, [a, b, c]) # 用y分别对a, b, c进行求导，显式调用求导函数\n",
    "print('fter: ', grads[0], grads[1], grads[2]) # 不出意外应该是：2, 1, 1，并且都是Tensor！"
   ]
  }
 ],
 "metadata": {
  "kernelspec": {
   "display_name": "Python 3",
   "language": "python",
   "name": "python3"
  },
  "language_info": {
   "codemirror_mode": {
    "name": "ipython",
    "version": 3
   },
   "file_extension": ".py",
   "mimetype": "text/x-python",
   "name": "python",
   "nbconvert_exporter": "python",
   "pygments_lexer": "ipython3",
   "version": "3.6.8"
  }
 },
 "nbformat": 4,
 "nbformat_minor": 2
}
